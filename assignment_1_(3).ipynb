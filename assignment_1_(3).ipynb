{
  "cells": [
    {
      "cell_type": "code",
      "execution_count": null,
      "id": "f9c1bad4-67f2-4b58-afc3-7362ee4ecfd6",
      "metadata": {
        "id": "f9c1bad4-67f2-4b58-afc3-7362ee4ecfd6",
        "outputId": "15ecb563-8d30-4fad-b83b-00b75f672989"
      },
      "outputs": [
        {
          "name": "stdout",
          "output_type": "stream",
          "text": [
            "1D [1 2 3 4] [5 6 7 8] \n",
            "\n",
            " 2D [[1 2 3 4]\n",
            " [5 6 7 8]] \n",
            "\n",
            " 3D [[[ 1  2  3]\n",
            "  [ 4  5  6]\n",
            "  [ 7  8  9]]\n",
            "\n",
            " [[10 11 12]\n",
            "  [13 14 15]\n",
            "  [16 17 18]]\n",
            "\n",
            " [[19 20 21]\n",
            "  [22 23 24]\n",
            "  [25 26 27]]]\n"
          ]
        }
      ],
      "source": [
        "print(\"1D\",a,b,\"\\n\\n\",\"2D\",c,\"\\n\\n\",\"3D\",d)"
      ]
    },
    {
      "cell_type": "code",
      "execution_count": null,
      "id": "006b31ec-689e-4fe4-8519-22343043ea29",
      "metadata": {
        "id": "006b31ec-689e-4fe4-8519-22343043ea29",
        "outputId": "e4bf03bf-3792-4a77-a8da-c9a335adcd3a"
      },
      "outputs": [
        {
          "name": "stdout",
          "output_type": "stream",
          "text": [
            "[ 6  8 10 12]\n"
          ]
        }
      ],
      "source": [
        "# Given are 2 similar dimensional numpy arrays, how to get a numpy array output in which every element is an element-wise sum of the 2 numpy arrays?\n",
        "print(a+b)"
      ]
    },
    {
      "cell_type": "code",
      "execution_count": null,
      "id": "926f9099-30c9-412d-8a2b-da5f144382c0",
      "metadata": {
        "id": "926f9099-30c9-412d-8a2b-da5f144382c0",
        "outputId": "6141bb0a-69b8-4403-9d9b-755d3d83860f"
      },
      "outputs": [
        {
          "name": "stdout",
          "output_type": "stream",
          "text": [
            "[2 4 6 8]\n"
          ]
        }
      ],
      "source": [
        "# Given a numpy array (matrix), how to get a numpy array output which is equal to the original matrix multiplied by a scalar?\n",
        "print(a*2)"
      ]
    },
    {
      "cell_type": "code",
      "execution_count": null,
      "id": "40c05836-ce8a-4be7-9f2d-57233e6325bd",
      "metadata": {
        "ExecuteTime": {
          "end_time": "2023-11-22T13:56:29.198832+00:00",
          "start_time": "2023-11-22T13:56:29.043737+00:00"
        },
        "jupyter": {
          "outputs_hidden": false,
          "source_hidden": false
        },
        "noteable": {
          "cell_type": "code"
        },
        "id": "40c05836-ce8a-4be7-9f2d-57233e6325bd",
        "outputId": "5fded11f-5243-406b-d6f7-2a0abc703fdc"
      },
      "outputs": [
        {
          "name": "stdout",
          "output_type": "stream",
          "text": [
            "[[1. 0. 0. 0.]\n",
            " [0. 1. 0. 0.]\n",
            " [0. 0. 1. 0.]\n",
            " [0. 0. 0. 1.]]\n"
          ]
        }
      ],
      "source": [
        "# Create an identity matrix of dimension 4-by-4.\n",
        "eye=ny.eye(4)\n",
        "print(eye)"
      ]
    },
    {
      "cell_type": "code",
      "execution_count": null,
      "id": "4ffb6fb4-14ae-4f0f-859a-69ca23bf253e",
      "metadata": {
        "id": "4ffb6fb4-14ae-4f0f-859a-69ca23bf253e",
        "outputId": "ffd413da-152b-47b3-b94c-de84e5c4ecb8"
      },
      "outputs": [
        {
          "name": "stdout",
          "output_type": "stream",
          "text": [
            "[ 1  2  3  4  5  6  7  8  9 10 11 12 13 14 15 16 17 18 19 20 21 22 23 24\n",
            " 25 26 27]\n"
          ]
        },
        {
          "data": {
            "text/plain": [
              "array([[[ 1,  2,  3],\n",
              "        [ 4,  5,  6],\n",
              "        [ 7,  8,  9]],\n",
              "\n",
              "       [[10, 11, 12],\n",
              "        [13, 14, 15],\n",
              "        [16, 17, 18]],\n",
              "\n",
              "       [[19, 20, 21],\n",
              "        [22, 23, 24],\n",
              "        [25, 26, 27]]])"
            ]
          },
          "execution_count": 40,
          "metadata": {},
          "output_type": "execute_result"
        }
      ],
      "source": [
        "# Convert a 1-D array to a 3-D array.\n",
        "e=ny.arange(1,28)\n",
        "print(e)\n",
        "e.reshape(3,3,3)"
      ]
    },
    {
      "cell_type": "code",
      "execution_count": null,
      "id": "18b12a3c-3813-4420-93b3-865b480b6f6f",
      "metadata": {
        "ExecuteTime": {
          "end_time": "2023-11-22T14:05:31.797581+00:00",
          "start_time": "2023-11-22T14:05:31.641552+00:00"
        },
        "jupyter": {
          "outputs_hidden": false,
          "source_hidden": false
        },
        "noteable": {
          "cell_type": "code"
        },
        "id": "18b12a3c-3813-4420-93b3-865b480b6f6f",
        "outputId": "ae7513af-8e9e-4485-be90-7a04188bdb3c"
      },
      "outputs": [
        {
          "name": "stdout",
          "output_type": "stream",
          "text": [
            "[[[1 1 1]\n",
            "  [1 1 1]\n",
            "  [1 1 1]]\n",
            "\n",
            " [[1 1 1]\n",
            "  [1 1 1]\n",
            "  [1 1 1]]\n",
            "\n",
            " [[1 1 1]\n",
            "  [1 1 1]\n",
            "  [1 1 1]]]\n"
          ]
        }
      ],
      "source": [
        "# Convert all the elements of a numpy array from float to integer datatype.\n",
        "f=ny.ones((3,3,3),dtype=\"int\")\n",
        "print(f)"
      ]
    },
    {
      "cell_type": "code",
      "execution_count": null,
      "id": "bd5d03fe-f943-4681-8109-867a5964c719",
      "metadata": {
        "jupyter": {
          "outputs_hidden": false,
          "source_hidden": false
        },
        "noteable": {
          "cell_type": "code"
        },
        "id": "bd5d03fe-f943-4681-8109-867a5964c719",
        "outputId": "5c18e2a9-570d-48a4-ca93-bd1d2cc02cf7"
      },
      "outputs": [
        {
          "name": "stdout",
          "output_type": "stream",
          "text": [
            "[  0   5  10  15  20  25  30  35  40  45  50  55  60  65  70  75  80  85\n",
            "  90  95 100]\n"
          ]
        }
      ],
      "source": [
        "# Output a sequence of equally gapped 5 numbers in the range 0 to 100 (both inclusive).\n",
        "g=ny.arange(0,105,5)\n",
        "print(g)"
      ]
    }
  ],
  "metadata": {
    "kernel_info": {
      "name": "python3"
    },
    "kernelspec": {
      "display_name": "Python 3 (ipykernel)",
      "language": "python",
      "name": "python3"
    },
    "language_info": {
      "codemirror_mode": {
        "name": "ipython",
        "version": 3
      },
      "file_extension": ".py",
      "mimetype": "text/x-python",
      "name": "python",
      "nbconvert_exporter": "python",
      "pygments_lexer": "ipython3",
      "version": "3.11.3"
    },
    "noteable": {
      "last_delta_id": "87408681-2fe9-4867-b6d5-9bf46a89e478"
    },
    "nteract": {
      "version": "noteable@2.9.0"
    },
    "selected_hardware_size": "small",
    "colab": {
      "provenance": []
    }
  },
  "nbformat": 4,
  "nbformat_minor": 5
}